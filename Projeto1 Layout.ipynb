{
 "cells": [
  {
   "cell_type": "markdown",
   "metadata": {},
   "source": [
    "___\n",
    "# Ciência dos Dados - PROJETO 1"
   ]
  },
  {
   "cell_type": "markdown",
   "metadata": {},
   "source": [
    "## Leonardo Imakuma Neves"
   ]
  },
  {
   "cell_type": "markdown",
   "metadata": {},
   "source": [
    "## A diferença salarial entre homem e mulheres é maior do que a diferença salarial de etnias"
   ]
  },
  {
   "cell_type": "markdown",
   "metadata": {},
   "source": [
    "___\n",
    "## Introdução\n",
    "\n",
    "Busco analisar a diferença salarial entre as diferentes raças/cores da população brasileira ,compara las com diferença salarial encontrada entre mulheres e homens , e analisar o grau de escolaridade da população e ver como ele influencia na diferença salarial."
   ]
  },
  {
   "cell_type": "markdown",
   "metadata": {},
   "source": [
    "___\n",
    "## Filtros da base de dados"
   ]
  },
  {
   "cell_type": "code",
   "execution_count": 53,
   "metadata": {
    "collapsed": true
   },
   "outputs": [],
   "source": [
    "%matplotlib inline\n",
    "import pandas as pd\n",
    "import matplotlib.pyplot as plt\n",
    "import numpy as np\n",
    "import os\n",
    "from numpy import zeros_like"
   ]
  },
  {
   "cell_type": "code",
   "execution_count": 54,
   "metadata": {},
   "outputs": [
    {
     "name": "stdout",
     "output_type": "stream",
     "text": [
      "Esperamos trabalhar no diretório\n",
      "C:\\Users\\Leonardo\\OneDrive\\insper\\dps 2018\\ciencia dos dados\\projeto 1\n"
     ]
    }
   ],
   "source": [
    "print('Esperamos trabalhar no diretório')\n",
    "print(os.getcwd())"
   ]
  },
  {
   "cell_type": "code",
   "execution_count": null,
   "metadata": {
    "collapsed": true
   },
   "outputs": [],
   "source": [
    "#Se usar o arquivo descompactado\n",
    "#pd.read_csv('PES2015.csv',sep=',')\n",
    "\n",
    "#Se usar o arquivo compactado como está no dropbox púbico\n",
    "dd2011=pd.read_csv('PES2011.csv',sep=',')\n"
   ]
  },
  {
   "cell_type": "code",
   "execution_count": null,
   "metadata": {
    "collapsed": true
   },
   "outputs": [],
   "source": [
    "#Pegar as colunas\n",
    "dadosID2011= dd2011.loc[: ,[\"UF\",\"V0302\",\"V6007\",\"V0601\",\"V4743\",\"V0404\",\"V8005\",\"V4742\"]]"
   ]
  },
  {
   "cell_type": "code",
   "execution_count": null,
   "metadata": {
    "collapsed": true
   },
   "outputs": [],
   "source": [
    "\n",
    "dadosID2011.V0302=dadosID2011.V0302.astype(\"category\")\n",
    "dadosID2011.V0302.cat.categories=(['Masculino','Feminino'])\n",
    "dadosID2011.V6007=dadosID2011.V6007.astype(\"category\")\n",
    "dadosID2011.V6007.cat.categories=(['Elementar (primário)','Médio 1º ciclo (ginasial, etc.)','Médio 2º ciclo (científico, clássico, etc.)','Regular do ensino fundamental ou do 1º grau','Regular do ensino médio ou do 2º grau','Educação de jovens e adultos ou supletivo do ensino fundamental ou do 1º grau','Educação de jovens e adultos ou supletivo de ensino médio ou do 2º grau','Superior de graduação','Mestrado ou doutorado','Alfabetização de jovens e adultos','Creche','Classe de alfabetização - CA ','Maternal, jardim de infância etc.'])\n",
    "dadosID2011.V0601=dadosID2011.V0601.astype(\"category\")\n",
    "dadosID2011.V0601.cat.categories=(['Sim','Não'])\n",
    "dadosID2011.V4743=dadosID2011.V4743.astype(\"category\")\n",
    "dadosID2011.V4743.cat.categories=(['Sem rendimento','Até ¼ salário mínimo','Mais de ¼ até ½ salário mínimo','Mais de ½ até 1 salário mínimo','Mais de 1 até 2 salários mínimos','Mais de 2 até 3 salários mínimos','Mais de 3 até 5 salários mínimos','Mais de 5 salários mínimos','Sem declaração'])\n",
    "dadosID2011.V0404=dadosID2011.V0404.astype(\"category\")\n",
    "dadosID2011.V0404.cat.categories=(['Indígena','Branca','Preta','Amarela','Parda'])\n",
    "dadosID2011.V4742=dadosID2011.V4742.astype('float')"
   ]
  },
  {
   "cell_type": "code",
   "execution_count": null,
   "metadata": {
    "collapsed": true
   },
   "outputs": [],
   "source": [
    "#tirar os NaN\n",
    "#Dados2011Completos=dadosID2011.dropna()"
   ]
  },
  {
   "cell_type": "code",
   "execution_count": null,
   "metadata": {
    "collapsed": true
   },
   "outputs": [],
   "source": []
  },
  {
   "cell_type": "code",
   "execution_count": null,
   "metadata": {
    "collapsed": true
   },
   "outputs": [],
   "source": [
    "#filtragem por cor/raça\n",
    "indio=dadosID2011.loc[(dadosID2011['V0404'] == 'Indígena')]\n",
    "branca=dadosID2011.loc[(dadosID2011['V0404'] == 'Branca')]\n",
    "negra=dadosID2011.loc[(dadosID2011['V0404'] == 'Preta')]\n",
    "negra=dadosID2011.loc[(dadosID2011['V0404'] == 'Parda')]\n",
    "amarela=dadosID2011.loc[(dadosID2011['V0404'] == 'Amarela')]"
   ]
  },
  {
   "cell_type": "code",
   "execution_count": null,
   "metadata": {},
   "outputs": [],
   "source": [
    "fig = plt.figure(figsize=(17, 17))\n",
    "\n",
    "###########################################################################################################################\n",
    "entrada = (indio.V4743.value_counts(sort=False, normalize=True)*100).round(decimals=1)\n",
    "\n",
    "plt.subplot(221)\n",
    "plot = entrada.plot(kind='pie',title='População indigena',autopct='%.1f')\n",
    "plt.ylabel('Freq.Relativa (em %)')\n",
    "plt.xlabel('')\n",
    "\n",
    "entrada2 = (negra.V4743.value_counts(sort=False, normalize=True)*100).round(decimals=1)\n",
    "\n",
    "plt.subplot(222)\n",
    "plot = entrada2.plot(kind='pie',title='População Negra',autopct='%.1f')\n",
    "plt.ylabel('Freq.Relativa (em %)')\n",
    "plt.xlabel('')\n",
    "\n",
    "\n",
    "\n",
    "entrada3 = (branca.V4743.value_counts(sort=False, normalize=True)*100).round(decimals=1)\n",
    "\n",
    "plt.subplot(223)\n",
    "plot = entrada3.plot(kind='pie',title='População Branca',autopct='%.1f')\n",
    "plt.ylabel('Freq.Relativa (em %)')\n",
    "plt.xlabel('')"
   ]
  },
  {
   "cell_type": "code",
   "execution_count": null,
   "metadata": {
    "collapsed": true
   },
   "outputs": [],
   "source": [
    "#filtragem por sexo\n",
    "homens=dadosID2011.loc[(dadosID2011['V0302'] == 'Masculino')]\n",
    "mulheres=dadosID2011.loc[(dadosID2011['V0302'] == 'Feminino')]"
   ]
  },
  {
   "cell_type": "code",
   "execution_count": null,
   "metadata": {
    "collapsed": true
   },
   "outputs": [],
   "source": [
    "def converter(tab):\n",
    "  return (tab/float(tab[-1])*100).round(decimals=0)"
   ]
  },
  {
   "cell_type": "code",
   "execution_count": null,
   "metadata": {},
   "outputs": [],
   "source": [
    "cores1 = (dadosID2011.V0404.value_counts(sort=True, normalize=True)*100).round(decimals=1)\n",
    "print(cores1,'\\n')\n"
   ]
  },
  {
   "cell_type": "code",
   "execution_count": null,
   "metadata": {},
   "outputs": [],
   "source": [
    "\n",
    "salariocor = pd.crosstab([dadosID2011.V0404],dadosID2011.V4743)#*(100/358919)\n",
    "salariocor"
   ]
  },
  {
   "cell_type": "code",
   "execution_count": null,
   "metadata": {},
   "outputs": [],
   "source": [
    "#salario por escolaridade\n",
    "edusal=pd.crosstab([dadosID2011.V4743],dadosID2011.V6007)\n",
    "edusal"
   ]
  },
  {
   "cell_type": "code",
   "execution_count": null,
   "metadata": {},
   "outputs": [],
   "source": [
    "#salario por escolaridade e cor/raça\n",
    "edusal2=pd.crosstab([dadosID2011.V6007,dadosID2011.V0404],dadosID2011.V4743)\n",
    "edusal2"
   ]
  },
  {
   "cell_type": "code",
   "execution_count": null,
   "metadata": {},
   "outputs": [],
   "source": [
    "#o valor do step foi definido com base no salario minimo de 2011\n",
    "faixa = range(100,15000,271)\n",
    "#tirar os nan da renda1\n",
    "renda=dadosID2011.V4742[(dadosID2011.V4742 >= 0) &(dadosID2011.V4742 != 999999999999)]\n",
    "renda=renda.dropna()\n",
    "renda.describe()"
   ]
  },
  {
   "cell_type": "code",
   "execution_count": null,
   "metadata": {},
   "outputs": [],
   "source": [
    "renda_indios=renda.loc[(dadosID2011['V0404'] == 'Indígena')]\n",
    "plot = renda_indios.plot.hist(bins=faixa,title='Renda', weights=zeros_like(renda_indios)+1./renda_indios.size*100, figsize=(6, 6), alpha=0.7)\n",
    "plt.ylabel('Frequência relativa (em %)')\n",
    "plt.xlabel('renda')\n",
    "plt.show()"
   ]
  },
  {
   "cell_type": "code",
   "execution_count": null,
   "metadata": {
    "collapsed": true
   },
   "outputs": [],
   "source": [
    "plot=renda1.plot.hist(bins=faixa,title='Renda1', normed=1, alpha=0.5)\n",
    "plt.ylabel(\"salario per capita\")\n",
    "plt.xlabel('salario')\n",
    "plt.show()"
   ]
  },
  {
   "cell_type": "markdown",
   "metadata": {},
   "source": [
    "___\n",
    "## Análise e Resultados"
   ]
  },
  {
   "cell_type": "code",
   "execution_count": null,
   "metadata": {
    "collapsed": true
   },
   "outputs": [],
   "source": []
  },
  {
   "cell_type": "code",
   "execution_count": null,
   "metadata": {
    "collapsed": true
   },
   "outputs": [],
   "source": []
  },
  {
   "cell_type": "markdown",
   "metadata": {},
   "source": [
    "___\n",
    "## Conclusão "
   ]
  },
  {
   "cell_type": "markdown",
   "metadata": {
    "collapsed": true
   },
   "source": [
    "Descreva aqui suas conclusões!"
   ]
  },
  {
   "cell_type": "code",
   "execution_count": null,
   "metadata": {
    "collapsed": true
   },
   "outputs": [],
   "source": []
  }
 ],
 "metadata": {
  "anaconda-cloud": {},
  "kernelspec": {
   "display_name": "Python 3",
   "language": "python",
   "name": "python3"
  },
  "language_info": {
   "codemirror_mode": {
    "name": "ipython",
    "version": 3
   },
   "file_extension": ".py",
   "mimetype": "text/x-python",
   "name": "python",
   "nbconvert_exporter": "python",
   "pygments_lexer": "ipython3",
   "version": "3.6.0"
  }
 },
 "nbformat": 4,
 "nbformat_minor": 1
}
