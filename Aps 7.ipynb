{
 "cells": [
  {
   "cell_type": "code",
   "execution_count": 1,
   "metadata": {
    "collapsed": true
   },
   "outputs": [],
   "source": [
    "import numpy as np\n",
    "import matplotlib as plt\n",
    "import pandas as pd\n",
    "from scipy import stats\n",
    "import math\n",
    "\n",
    "%matplotlib inline\n",
    "import numpy as np\n",
    "import pandas as pd\n",
    "from scipy.stats import norm\n",
    "import matplotlib.pyplot as plt\n",
    "import numpy.random as nprandom\n",
    "\n"
   ]
  },
  {
   "cell_type": "code",
   "execution_count": 11,
   "metadata": {},
   "outputs": [
    {
     "name": "stdout",
     "output_type": "stream",
     "text": [
      "Média:  347.0\n",
      "Desvio padrao  7.990601622263139\n"
     ]
    }
   ],
   "source": [
    "dados = [344.5, 352.9, 355.0, 348.8, 342.0, 344.7, 346.9, 340.9, 357.7, 341.2, 347.1, 365.3, 340.3, 343.2, 342.6, 333.7, 341.9, 351.0, 348.0, 354.3, 344.9, 348.0, 346.4, 358.0, 340.2, 354.4, 349.7, 339.4, 338.8, 344.9, 330.4, 341.7, 336.7, 363.2, 355.9, 357.4]\n",
    "dados = pd.Series(dados)\n",
    "n=16\n",
    "dp_l = np.std(dados,ddof=1)\n",
    "x_l = dados.mean()\n",
    "\n",
    "\n",
    "print(\"Média: \", x_l)\n",
    "print(\"Desvio padrao \", dp_l)\n"
   ]
  },
  {
   "cell_type": "code",
   "execution_count": 14,
   "metadata": {},
   "outputs": [
    {
     "name": "stdout",
     "output_type": "stream",
     "text": [
      "6.11323362111\n",
      "9.52551472374\n",
      "O intervalo de confianca esta entre 6.113233621114376 e 9.525514723739372\n"
     ]
    }
   ],
   "source": [
    "xdp = []\n",
    "for i in range(10000):\n",
    "    re = np.random.choice(dados, size = 36, replace = True)\n",
    "    xdp.append(np.std(re, ddof = 1))\n",
    "    \n",
    "\n",
    "xdp = pd.Series(xdp)\n",
    "xmax = np.percentile(xdp, 100-2.5)\n",
    "xmin = np.percentile(xdp, 2.5)\n",
    "print(xmin)\n",
    "print(xmax)\n",
    "print('O intervalo de confianca esta entre {0} e {1}'.format(xmin,xmax))"
   ]
  },
  {
   "cell_type": "markdown",
   "metadata": {},
   "source": [
    "Como o o entervalo de confiaça < 10 ml , não à nessecidade de parar a produção ."
   ]
  },
  {
   "cell_type": "code",
   "execution_count": null,
   "metadata": {
    "collapsed": true
   },
   "outputs": [],
   "source": []
  },
  {
   "cell_type": "code",
   "execution_count": null,
   "metadata": {
    "collapsed": true
   },
   "outputs": [],
   "source": []
  },
  {
   "cell_type": "code",
   "execution_count": null,
   "metadata": {},
   "outputs": [],
   "source": [
    "dados = [1014,1043,1028,1018,1050,1001,1020,1017,1029,1041,1027,1030,1033]\n",
    "dados = pd.Series(dados)\n",
    "n = len(dados)\n",
    "\n",
    "\n",
    "xbarra = np.mean(dados)\n",
    "dp = np.std(dados,ddof=1)\n",
    "xbarra_Boot = []\n",
    "\n",
    "B = 10000\n",
    "for i in range(B):\n",
    "    xbarra_Boot.append(np.random.choice(dados, size=n, replace=True).mean())\n",
    "\n",
    "pd.Series(xbarra_Boot).hist(normed=True);\n",
    "print(pd.Series(xbarra_Boot).quantile(0.025))\n",
    "print(pd.Series(xbarra_Boot).quantile(0.975))\n"
   ]
  },
  {
   "cell_type": "markdown",
   "metadata": {},
   "source": [
    "nao compraria , pois os as informações dadas pelo vendedor nao encontran-se dentro do intervalo de confiança "
   ]
  },
  {
   "cell_type": "code",
   "execution_count": null,
   "metadata": {
    "collapsed": true
   },
   "outputs": [],
   "source": []
  }
 ],
 "metadata": {
  "kernelspec": {
   "display_name": "Python 3",
   "language": "python",
   "name": "python3"
  }
 },
 "nbformat": 4,
 "nbformat_minor": 2
}
